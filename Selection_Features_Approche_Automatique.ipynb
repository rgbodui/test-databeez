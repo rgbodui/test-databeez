{
 "cells": [
  {
   "cell_type": "markdown",
   "id": "f7b4b5fa",
   "metadata": {
    "heading_collapsed": true
   },
   "source": [
    "# Importation des packages et chargement des données"
   ]
  },
  {
   "cell_type": "code",
   "execution_count": 1,
   "id": "2fc83db2",
   "metadata": {
    "hidden": true,
    "is_executing": true
   },
   "outputs": [],
   "source": [
    "import pandas as pd\n",
    "import numpy as np\n",
    "from sklearn.datasets import load_breast_cancer\n",
    "from sklearn.feature_selection import SelectKBest, f_classif\n",
    "import matplotlib.pyplot as plt"
   ]
  },
  {
   "cell_type": "code",
   "execution_count": 2,
   "id": "37b8bfa4",
   "metadata": {
    "hidden": true
   },
   "outputs": [],
   "source": [
    "\n",
    "# Charger la base de données Breast Cancer\n",
    "data = load_breast_cancer()\n",
    "X, y = data.data, data.target\n",
    "columns = data.feature_names\n"
   ]
  },
  {
   "cell_type": "code",
   "execution_count": 7,
   "id": "e5c89527",
   "metadata": {},
   "outputs": [
    {
     "data": {
      "text/plain": [
       "array([0, 0, 0, 0, 0, 0, 0, 0, 0, 0, 0, 0, 0, 0, 0, 0, 0, 0, 0, 1, 1, 1,\n",
       "       0, 0, 0, 0, 0, 0, 0, 0, 0, 0, 0, 0, 0, 0, 0, 1, 0, 0, 0, 0, 0, 0,\n",
       "       0, 0, 1, 0, 1, 1, 1, 1, 1, 0, 0, 1, 0, 0, 1, 1, 1, 1, 0, 1, 0, 0,\n",
       "       1, 1, 1, 1, 0, 1, 0, 0, 1, 0, 1, 0, 0, 1, 1, 1, 0, 0, 1, 0, 0, 0,\n",
       "       1, 1, 1, 0, 1, 1, 0, 0, 1, 1, 1, 0, 0, 1, 1, 1, 1, 0, 1, 1, 0, 1,\n",
       "       1, 1, 1, 1, 1, 1, 1, 0, 0, 0, 1, 0, 0, 1, 1, 1, 0, 0, 1, 0, 1, 0,\n",
       "       0, 1, 0, 0, 1, 1, 0, 1, 1, 0, 1, 1, 1, 1, 0, 1, 1, 1, 1, 1, 1, 1,\n",
       "       1, 1, 0, 1, 1, 1, 1, 0, 0, 1, 0, 1, 1, 0, 0, 1, 1, 0, 0, 1, 1, 1,\n",
       "       1, 0, 1, 1, 0, 0, 0, 1, 0, 1, 0, 1, 1, 1, 0, 1, 1, 0, 0, 1, 0, 0,\n",
       "       0, 0, 1, 0, 0, 0, 1, 0, 1, 0, 1, 1, 0, 1, 0, 0, 0, 0, 1, 1, 0, 0,\n",
       "       1, 1, 1, 0, 1, 1, 1, 1, 1, 0, 0, 1, 1, 0, 1, 1, 0, 0, 1, 0, 1, 1,\n",
       "       1, 1, 0, 1, 1, 1, 1, 1, 0, 1, 0, 0, 0, 0, 0, 0, 0, 0, 0, 0, 0, 0,\n",
       "       0, 0, 1, 1, 1, 1, 1, 1, 0, 1, 0, 1, 1, 0, 1, 1, 0, 1, 0, 0, 1, 1,\n",
       "       1, 1, 1, 1, 1, 1, 1, 1, 1, 1, 1, 0, 1, 1, 0, 1, 0, 1, 1, 1, 1, 1,\n",
       "       1, 1, 1, 1, 1, 1, 1, 1, 1, 0, 1, 1, 1, 0, 1, 0, 1, 1, 1, 1, 0, 0,\n",
       "       0, 1, 1, 1, 1, 0, 1, 0, 1, 0, 1, 1, 1, 0, 1, 1, 1, 1, 1, 1, 1, 0,\n",
       "       0, 0, 1, 1, 1, 1, 1, 1, 1, 1, 1, 1, 1, 0, 0, 1, 0, 0, 0, 1, 0, 0,\n",
       "       1, 1, 1, 1, 1, 0, 1, 1, 1, 1, 1, 0, 1, 1, 1, 0, 1, 1, 0, 0, 1, 1,\n",
       "       1, 1, 1, 1, 0, 1, 1, 1, 1, 1, 1, 1, 0, 1, 1, 1, 1, 1, 0, 1, 1, 0,\n",
       "       1, 1, 1, 1, 1, 1, 1, 1, 1, 1, 1, 1, 0, 1, 0, 0, 1, 0, 1, 1, 1, 1,\n",
       "       1, 0, 1, 1, 0, 1, 0, 1, 1, 0, 1, 0, 1, 1, 1, 1, 1, 1, 1, 1, 0, 0,\n",
       "       1, 1, 1, 1, 1, 1, 0, 1, 1, 1, 1, 1, 1, 1, 1, 1, 1, 0, 1, 1, 1, 1,\n",
       "       1, 1, 1, 0, 1, 0, 1, 1, 0, 1, 1, 1, 1, 1, 0, 0, 1, 0, 1, 0, 1, 1,\n",
       "       1, 1, 1, 0, 1, 1, 0, 1, 0, 1, 0, 0, 1, 1, 1, 0, 1, 1, 1, 1, 1, 1,\n",
       "       1, 1, 1, 1, 1, 0, 1, 0, 0, 1, 1, 1, 1, 1, 1, 1, 1, 1, 1, 1, 1, 1,\n",
       "       1, 1, 1, 1, 1, 1, 1, 1, 1, 1, 1, 1, 0, 0, 0, 0, 0, 0, 1])"
      ]
     },
     "execution_count": 7,
     "metadata": {},
     "output_type": "execute_result"
    }
   ],
   "source": [
    "data.target"
   ]
  },
  {
   "cell_type": "code",
   "execution_count": null,
   "id": "702c787a",
   "metadata": {
    "hidden": true
   },
   "outputs": [],
   "source": [
    "X"
   ]
  },
  {
   "cell_type": "markdown",
   "id": "baa54181",
   "metadata": {
    "heading_collapsed": true
   },
   "source": [
    "# Sélection des variables en utilisant une approche par filtrage"
   ]
  },
  {
   "cell_type": "markdown",
   "id": "52d10788",
   "metadata": {
    "hidden": true
   },
   "source": [
    "## Sélection des variables basée sur la variance"
   ]
  },
  {
   "cell_type": "code",
   "execution_count": null,
   "id": "828b1abd",
   "metadata": {
    "hidden": true
   },
   "outputs": [],
   "source": [
    "\n",
    "\n",
    "# Calculer la variance pour chaque caractéristique\n",
    "variances = np.var(X, axis=0)\n",
    "sorted_indices = np.argsort(variances)[::-1]\n",
    "\n",
    "# Afficher la courbe des variances\n",
    "plt.figure(figsize=(15, 5))\n",
    "plt.bar(x=columns[sorted_indices], height=variances[sorted_indices])\n",
    "plt.xticks(rotation=90)\n",
    "plt.xlabel('Caractéristiques')\n",
    "plt.ylabel('Variance')\n",
    "plt.title('Sélection des caractéristiques basée sur la variance')\n",
    "plt.show()\n"
   ]
  },
  {
   "cell_type": "code",
   "execution_count": null,
   "id": "0956c166",
   "metadata": {
    "hidden": true
   },
   "outputs": [],
   "source": [
    "from sklearn.feature_selection import VarianceThreshold\n",
    "# Appliquer le seuil de variance\n",
    "threshold = 0.8 * (1 - 0.8)  # Exemple de seuil, à adapter selon les besoins\n",
    "selector = VarianceThreshold(threshold=threshold)\n",
    "X_high_variance = selector.fit_transform(X)\n",
    "\n",
    "# Afficher les caractéristiques sélectionnées\n",
    "selected_columns = columns[selector.get_support()]\n",
    "print(f\"Caractéristiques sélectionnées : {selected_columns}\")"
   ]
  },
  {
   "cell_type": "markdown",
   "id": "8e3fb9b3",
   "metadata": {
    "hidden": true
   },
   "source": [
    "## Choix des variables en se basant sur l'ANOVA"
   ]
  },
  {
   "cell_type": "code",
   "execution_count": null,
   "id": "fba1df21",
   "metadata": {
    "hidden": true,
    "scrolled": true
   },
   "outputs": [],
   "source": [
    "# Charger la base de données breast_cancer\n",
    "data = load_breast_cancer()\n",
    "X = data.data\n",
    "y = data.target\n",
    "\n",
    "# Appliquer la fonction SelectKBest avec ANOVA pour sélectionner les k meilleures caractéristiques\n",
    "selector = SelectKBest(score_func=f_classif, k='all')\n",
    "X_new = selector.fit_transform(X, y)\n",
    "anova_scores = selector.scores_\n",
    "sorted_indices = np.argsort(anova_scores)[::-1]\n",
    "\n",
    "# Afficher la courbe des scores ANOVA\n",
    "plt.figure(figsize=(15, 5))\n",
    "plt.bar(x=data.feature_names[sorted_indices], height=anova_scores[sorted_indices])\n",
    "plt.xticks(rotation=90)\n",
    "plt.xlabel('Caractéristiques')\n",
    "plt.ylabel('Statistique de test ANOVA')\n",
    "plt.title('Sélection des caractéristiques avec ANOVA')\n",
    "plt.show()"
   ]
  },
  {
   "cell_type": "code",
   "execution_count": null,
   "id": "3fb0ae4c",
   "metadata": {
    "hidden": true
   },
   "outputs": [],
   "source": [
    "\n",
    "# Sélectionner les meilleures caractéristiques avec SelectKBest et ANOVA\n",
    "best_features = SelectKBest(score_func=f_classif, k=10)\n",
    "X_new = best_features.fit_transform(X, y)\n",
    "selected_features = data.feature_names[best_features.get_support()]\n",
    "\n",
    "print('Les meilleures caractéristiques sont :', selected_features)"
   ]
  },
  {
   "cell_type": "code",
   "execution_count": null,
   "id": "a63246b0",
   "metadata": {
    "hidden": true
   },
   "outputs": [],
   "source": [
    "from scipy.stats import f_oneway,shapiro, levene\n",
    "# Séparer les données en deux groupes en fonction de la variable cible\n",
    "group0 = X[y == 0]\n",
    "group1 = X[y == 1]\n",
    "\n",
    "# Calculer les scores F pour chaque caractéristique avec l'ANOVA\n",
    "f_scores = np.array([f_oneway(group0[:, i], group1[:, i])[0] for i in range(X.shape[1])])\n",
    "sorted_indices = np.argsort(f_scores)[::-1]\n",
    "\n",
    "# Afficher la courbe des scores F\n",
    "plt.figure(figsize=(15, 5))\n",
    "plt.bar(x=columns[sorted_indices], height=f_scores[sorted_indices])\n",
    "plt.xticks(rotation=90)\n",
    "plt.xlabel('Caractéristiques')\n",
    "plt.ylabel(\"F-score\")\n",
    "plt.title('Sélection des caractéristiques avec l\\'ANOVA')\n",
    "plt.show()"
   ]
  },
  {
   "cell_type": "code",
   "execution_count": null,
   "id": "df1bbfb0",
   "metadata": {
    "hidden": true
   },
   "outputs": [],
   "source": [
    "\n",
    "# Calculer les p-valeurs pour les tests de normalité (Shapiro-Wilk) et de Levene\n",
    "normality_p_values = np.array([shapiro(X[:, i])[1] for i in range(X.shape[1])])\n",
    "levene_p_values = np.array([levene(group0[:, i], group1[:, i])[1] for i in range(X.shape[1])])\n",
    "\n",
    "# Seuil de significativité\n",
    "alpha = 0.05\n",
    "\n",
    "# Vérifier si les tests sont validés (p-valeur >= alpha)\n",
    "normality_results = normality_p_values >= alpha\n",
    "levene_results = levene_p_values >= alpha\n",
    "\n",
    "# Créer un DataFrame pour présenter les résultats\n",
    "results_df = pd.DataFrame({\n",
    "    'Caractéristiques': columns,\n",
    "    'Normalité (p-valeur)': normality_p_values,\n",
    "    'Normalité (validé)': normality_results,\n",
    "    'Levene (p-valeur)': levene_p_values,\n",
    "    'Levene (validé)': levene_results\n",
    "})\n",
    "\n",
    "# Afficher le tableau des résultats\n",
    "print(results_df)"
   ]
  },
  {
   "cell_type": "code",
   "execution_count": null,
   "id": "15ff2eff",
   "metadata": {
    "hidden": true
   },
   "outputs": [],
   "source": [
    "\n",
    "# Calculer la normalité et l'égalité des variances pour chaque variable\n",
    "normality_p_values = []\n",
    "equality_variances_p_values = []\n",
    "normality = []\n",
    "equality_variances = []\n",
    "alpha = 0.05\n",
    "\n",
    "for i, column in enumerate(data.feature_names):\n",
    "    w, p_w = shapiro(X[:, i])\n",
    "    levene_stat, levene_p = levene(X[y == 0][:, i], X[y == 1][:, i], center='mean')\n",
    "    normality_p_values.append(p_w)\n",
    "    equality_variances_p_values.append(levene_p)\n",
    "    normality.append(p_w > alpha)\n",
    "    equality_variances.append(levene_p > alpha)\n",
    "\n",
    "# Appliquer la fonction SelectKBest avec ANOVA pour sélectionner les k meilleures caractéristiques\n",
    "selector = SelectKBest(score_func=f_classif, k='all')\n",
    "X_new = selector.fit_transform(X, y)\n",
    "anova_scores = selector.scores_\n",
    "sorted_indices = np.argsort(anova_scores)[::-1]\n",
    "\n",
    "# Afficher les résultats sous forme de tableau\n",
    "table = pd.DataFrame({'Caractéristique': data.feature_names[sorted_indices],\n",
    "                      'Score ANOVA': anova_scores[sorted_indices],\n",
    "                      'Normalité (p-valeur)': np.array(normality_p_values)[sorted_indices],\n",
    "                      'Normalité': np.array(normality)[sorted_indices],\n",
    "                      'Égalité des variances (p-valeur)': np.array(equality_variances_p_values)[sorted_indices],\n",
    "                      'Égalité des variances': np.array(equality_variances)[sorted_indices]})\n",
    "print(table)"
   ]
  },
  {
   "cell_type": "markdown",
   "id": "38615fe7",
   "metadata": {
    "heading_collapsed": true,
    "hidden": true
   },
   "source": [
    "## Sélection des variables en se basant sur le test de kruskall wallis"
   ]
  },
  {
   "cell_type": "code",
   "execution_count": null,
   "id": "a97818fc",
   "metadata": {
    "hidden": true
   },
   "outputs": [],
   "source": [
    "from scipy.stats import kruskal\n",
    "# Séparer les données en deux groupes en fonction de la variable cible\n",
    "group0 = X[y == 0]\n",
    "group1 = X[y == 1]\n",
    "\n",
    "# Appliquer la fonction SelectKBest avec Kruskal-Wallis pour sélectionner les k meilleures caractéristiques\n",
    "selector = SelectKBest(score_func=lambda X, y: np.array([kruskal(group0[:, i], group1[:, i]).statistic for i in range(X.shape[1])]), k='all')\n",
    "X_new = selector.fit_transform(X, y)\n",
    "kruskal_scores = selector.scores_\n",
    "sorted_indices = np.argsort(kruskal_scores)[::-1]\n",
    "\n",
    "# Afficher la courbe des scores Kruskal-Wallis\n",
    "plt.figure(figsize=(15, 5))\n",
    "plt.bar(x=data.feature_names[sorted_indices], height=kruskal_scores[sorted_indices])\n",
    "plt.xticks(rotation=90)\n",
    "plt.xlabel('Caractéristiques')\n",
    "plt.ylabel('Statistique de test Kruskal-Wallis')\n",
    "plt.title('Sélection des caractéristiques avec Kruskal-Wallis')\n",
    "plt.show()"
   ]
  },
  {
   "cell_type": "code",
   "execution_count": null,
   "id": "2d044db5",
   "metadata": {
    "hidden": true
   },
   "outputs": [],
   "source": [
    "# Sélectionner les meilleures caractéristiques avec SelectKBest et Kruskal-Wallis\n",
    "best_features = SelectKBest(score_func=lambda X, y: np.apply_along_axis(lambda x: kruskal(x, y).statistic, 0, X), k=10)\n",
    "X_new = best_features.fit_transform(X, y)\n",
    "selected_features = data.feature_names[best_features.get_support()]\n",
    "\n",
    "print('Les meilleures caractéristiques sont :', selected_features)"
   ]
  },
  {
   "cell_type": "code",
   "execution_count": null,
   "id": "bfa338e4",
   "metadata": {
    "hidden": true
   },
   "outputs": [],
   "source": [
    "from scipy.stats import kruskal\n",
    "# Séparer les données en deux groupes en fonction de la variable cible\n",
    "group0 = X[y == 0]\n",
    "group1 = X[y == 1]\n",
    "\n",
    "# Calculer les scores H pour chaque caractéristique avec le test de Kruskal-Wallis\n",
    "h_scores = np.array([kruskal(group0[:, i], group1[:, i])[0] for i in range(X.shape[1])])\n",
    "sorted_indices = np.argsort(h_scores)[::-1]\n",
    "\n",
    "# Afficher la courbe des scores H\n",
    "plt.figure(figsize=(15, 5))\n",
    "plt.bar(x=columns[sorted_indices], height=h_scores[sorted_indices])\n",
    "plt.xticks(rotation=90)\n",
    "plt.xlabel('Caractéristiques')\n",
    "plt.ylabel(\"H-score\")\n",
    "plt.title('Sélection des caractéristiques avec le test de Kruskal-Wallis')\n",
    "plt.show()"
   ]
  },
  {
   "cell_type": "code",
   "execution_count": null,
   "id": "97a51c40",
   "metadata": {
    "hidden": true
   },
   "outputs": [],
   "source": [
    "\n",
    "from sklearn.linear_model import LogisticRegression\n",
    "from sklearn.model_selection import train_test_split\n",
    "from sklearn.metrics import accuracy_score\n",
    "X, y = data.data, data.target\n",
    "columns = data.feature_names\n",
    "\n",
    "# Sélectionner les meilleures caractéristiques avec SelectKBest et Kruskal-Wallis\n",
    "best_features = SelectKBest(score_func=lambda X, y: np.apply_along_axis(lambda x: kruskal(x, y).statistic, 0, X), k=10)\n",
    "X_new = best_features.fit_transform(X, y)\n",
    "selected_features = columns[best_features.get_support()]\n",
    "\n",
    "# Diviser le jeu de données en ensemble d'entraînement et de test\n",
    "X_train, X_test, y_train, y_test = train_test_split(X_new, y, test_size=0.3, random_state=0)\n",
    "\n",
    "# Entraîner une régression logistique sur les caractéristiques sélectionnées\n",
    "logreg = LogisticRegression()\n",
    "logreg.fit(X_train, y_train)\n",
    "\n",
    "# Faire des prédictions sur l'ensemble de test\n",
    "y_pred = logreg.predict(X_test)\n",
    "\n",
    "# Calculer la précision du modèle\n",
    "accuracy = accuracy_score(y_test, y_pred)\n",
    "print('Précision : {:.2f}'.format(accuracy))"
   ]
  },
  {
   "cell_type": "markdown",
   "id": "7ca90179",
   "metadata": {
    "heading_collapsed": true,
    "hidden": true
   },
   "source": [
    "## Sélection des variables en se basant sur le khi deux"
   ]
  },
  {
   "cell_type": "code",
   "execution_count": null,
   "id": "1ed9594f",
   "metadata": {
    "hidden": true
   },
   "outputs": [],
   "source": [
    "from sklearn.preprocessing import KBinsDiscretizer\n",
    "# Charger les données\n",
    "data = load_breast_cancer(as_frame=True).frame\n",
    "\n",
    "# Discrétiser les variables numériques\n",
    "discretizer = KBinsDiscretizer(n_bins=5, encode='ordinal', strategy='quantile')\n",
    "num_cols = data.select_dtypes(include='number').columns\n",
    "data[num_cols] = discretizer.fit_transform(data[num_cols])\n",
    "\n",
    "# Transformer les colonnes en caractères\n",
    "data[num_cols] = data[num_cols].astype(str)\n"
   ]
  },
  {
   "cell_type": "code",
   "execution_count": null,
   "id": "8722b480",
   "metadata": {
    "hidden": true
   },
   "outputs": [],
   "source": [
    "import numpy as np\n",
    "import pandas as pd\n",
    "import matplotlib.pyplot as plt\n",
    "from sklearn.datasets import load_breast_cancer\n",
    "from sklearn.feature_selection import SelectKBest, chi2\n",
    "from sklearn.preprocessing import KBinsDiscretizer\n",
    "from scipy.stats import chi2_contingency\n",
    "# Charger la base de données Breast Cancer\n",
    "data = load_breast_cancer()\n",
    "X, y = data.data, data.target\n",
    "columns = data.feature_names\n",
    "\n",
    "# Discrétiser les colonnes\n",
    "discretizer = KBinsDiscretizer(n_bins=5, encode='ordinal', strategy='uniform')\n",
    "X_discrete = discretizer.fit_transform(X)\n",
    "\n",
    "# Calculer les scores de Khi deux pour chaque caractéristique\n",
    "chi2_scores = np.array([chi2_contingency(pd.crosstab(X_discrete[:, i], y))[0] for i in range(X_discrete.shape[1])])\n",
    "sorted_indices = np.argsort(chi2_scores)[::-1]\n",
    "\n",
    "# Afficher la courbe des scores de Khi deux\n",
    "plt.figure(figsize=(15, 5))\n",
    "plt.bar(x=columns[sorted_indices], height=chi2_scores[sorted_indices])\n",
    "plt.xticks(rotation=90)\n",
    "plt.xlabel('Caractéristiques')\n",
    "plt.ylabel(\"Khi deux\")\n",
    "plt.title('Sélection des caractéristiques avec le test de Khi deux')\n",
    "plt.show()\n",
    "\n",
    "\n",
    "\n",
    "\n"
   ]
  },
  {
   "cell_type": "markdown",
   "id": "64385939",
   "metadata": {
    "heading_collapsed": true,
    "hidden": true
   },
   "source": [
    "## Sélection basée sur le Cramer"
   ]
  },
  {
   "cell_type": "code",
   "execution_count": null,
   "id": "0ed56a50",
   "metadata": {
    "hidden": true
   },
   "outputs": [],
   "source": [
    "import scipy.stats as ss\n",
    "\n",
    "def cramers_v(x, y):\n",
    "    confusion_matrix = pd.crosstab(x, y)\n",
    "    chi2 = ss.chi2_contingency(confusion_matrix)[0]\n",
    "    n = confusion_matrix.sum().sum()\n",
    "    phi2 = chi2 / n\n",
    "    r, k = confusion_matrix.shape\n",
    "    phi2corr = max(0, phi2 - ((k-1)*(r-1))/(n-1))\n",
    "    rcorr = r - ((r-1)**2)/(n-1)\n",
    "    kcorr = k - ((k-1)**2)/(n-1)\n",
    "    return np.sqrt(phi2corr / min((kcorr-1), (rcorr-1)))\n",
    "\n"
   ]
  },
  {
   "cell_type": "code",
   "execution_count": null,
   "id": "3da968df",
   "metadata": {
    "hidden": true
   },
   "outputs": [],
   "source": [
    "# Charger la base de données Breast Cancer\n",
    "data = load_breast_cancer()\n",
    "X, y = data.data, data.target\n",
    "columns = data.feature_names\n",
    "\n",
    "# Discrétiser les colonnes\n",
    "discretizer = KBinsDiscretizer(n_bins=5, encode='ordinal', strategy='uniform')\n",
    "X_discrete = discretizer.fit_transform(X)\n",
    "\n",
    "# Calculer les scores de V de Cramér pour chaque caractéristique\n",
    "cramers_v_scores = np.array([cramers_v(X_discrete[:, i], y) for i in range(X_discrete.shape[1])])\n",
    "sorted_indices = np.argsort(cramers_v_scores)[::-1]\n",
    "\n",
    "# Afficher la courbe des scores V de Cramér\n",
    "plt.figure(figsize=(15, 5))\n",
    "plt.bar(x=columns[sorted_indices], height=cramers_v_scores[sorted_indices])\n",
    "plt.xticks(rotation=90)\n",
    "plt.xlabel('Caractéristiques')\n",
    "plt.ylabel(\"V de Cramér\")\n",
    "plt.title('Sélection des caractéristiques avec le V de Cramér')\n",
    "plt.show()"
   ]
  },
  {
   "cell_type": "markdown",
   "id": "488268ed",
   "metadata": {
    "heading_collapsed": true,
    "hidden": true
   },
   "source": [
    "## Sélection basée sur le T de Tschuprow"
   ]
  },
  {
   "cell_type": "code",
   "execution_count": null,
   "id": "4c910c1a",
   "metadata": {
    "hidden": true
   },
   "outputs": [],
   "source": [
    "def tchuprow_t(x, y):\n",
    "    confusion_matrix = pd.crosstab(x, y)\n",
    "    chi2 = ss.chi2_contingency(confusion_matrix)[0]\n",
    "    n = confusion_matrix.sum().sum()\n",
    "    phi2 = chi2 / n\n",
    "    r, k = confusion_matrix.shape\n",
    "    return np.sqrt(phi2 / (np.sqrt((k - 1) * (r - 1))))\n"
   ]
  },
  {
   "cell_type": "code",
   "execution_count": null,
   "id": "2fe04bfe",
   "metadata": {
    "hidden": true
   },
   "outputs": [],
   "source": [
    "\n",
    "# Charger la base de données Breast Cancer\n",
    "data = load_breast_cancer()\n",
    "X, y = data.data, data.target\n",
    "columns = data.feature_names\n",
    "\n",
    "# Discrétiser les colonnes\n",
    "discretizer = KBinsDiscretizer(n_bins=5, encode='ordinal', strategy='uniform')\n",
    "X_discrete = discretizer.fit_transform(X)\n",
    "\n",
    "# Calculer les scores de T de Tchuprow pour chaque caractéristique\n",
    "tchuprow_t_scores = np.array([tchuprow_t(X_discrete[:, i], y) for i in range(X_discrete.shape[1])])\n",
    "sorted_indices = np.argsort(tchuprow_t_scores)[::-1]\n",
    "\n",
    "# Afficher la courbe des scores T de Tchuprow\n",
    "plt.figure(figsize=(15, 5))\n",
    "plt.bar(x=columns[sorted_indices], height=tchuprow_t_scores[sorted_indices])\n",
    "plt.xticks(rotation=90)\n",
    "plt.xlabel('Caractéristiques')\n",
    "plt.ylabel(\"T de Tchuprow\")\n",
    "plt.title('Sélection des caractéristiques avec le T de Tchuprow')\n",
    "plt.show()"
   ]
  },
  {
   "cell_type": "markdown",
   "id": "b0643edc",
   "metadata": {
    "heading_collapsed": true,
    "hidden": true
   },
   "source": [
    "## Sélection basée sur l'information value"
   ]
  },
  {
   "cell_type": "markdown",
   "id": "d69cd866",
   "metadata": {
    "hidden": true
   },
   "source": [
    "L'Information Value (IV) est une mesure utilisée pour évaluer la puissance prédictive d'une variable catégorielle dans un modèle de régression binaire. L'IV est basé sur le concept de Weight of Evidence (WOE), qui est une mesure logarithmique des proportions d'événements et de non-événements pour chaque catégorie d'une variable.\n",
    "\n",
    "### Calcul de l'Information Value\n",
    "\n",
    "L'Information Value pour une variable est calculée en utilisant la formule suivante :\n",
    "\n",
    "$$IV = \\sum_{i=1}^n (EventDist_i - NonEventDist_i) * WOE_i$$\n",
    "\n",
    "où $n$ est le nombre de catégories pour la variable, $EventDist_i$ est la proportion d'événements pour la catégorie $i$, $NonEventDist_i$ est la proportion de non-événements pour la catégorie $i$, et $WOE_i$ est le Weight of Evidence pour la catégorie $i$.\n",
    "\n",
    "Le Weight of Evidence pour une catégorie est calculé en utilisant la formule suivante :\n",
    "\n",
    "$$WOE_i = \\ln \\frac{EventDist_i}{NonEventDist_i}$$\n",
    "\n",
    "### Interprétation de l'Information Value\n",
    "\n",
    "L'Information Value peut être interprété comme suit :\n",
    "\n",
    "- IV < 0.02 : La variable a très peu de pouvoir prédictif.\n",
    "- 0.02 <= IV < 0.1 : La variable a un faible pouvoir prédictif.\n",
    "- 0.1 <= IV < 0.3 : La variable a un pouvoir prédictif moyen.\n",
    "- 0.3 <= IV < 0.5 : La variable a un pouvoir prédictif fort.\n",
    "- IV >= 0.5 : La variable a un pouvoir prédictif très fort, mais cela peut indiquer une fuite d'informations (data leakage) ou un problème avec les données.\n"
   ]
  },
  {
   "cell_type": "code",
   "execution_count": null,
   "id": "1bd62d49",
   "metadata": {
    "hidden": true
   },
   "outputs": [],
   "source": [
    "# Calculate information value\n",
    "def calc_iv(df, feature, target, pr=0, epsilon=1e-6):\n",
    "\n",
    "    lst = []\n",
    "\n",
    "    for i in range(df[feature].nunique()):\n",
    "        val = list(df[feature].unique())[i]\n",
    "        lst.append([feature, val, df[df[feature] == val].count()[feature], df[(df[feature] == val) & (df[target] == 1)].count()[feature]])\n",
    "\n",
    "    data = pd.DataFrame(lst, columns=['Variable', 'Value', 'All', 'Bad'])\n",
    "    data = data[data['Bad'] > 0]\n",
    "\n",
    "    data['Share'] = data['All'] / data['All'].sum()\n",
    "    data['Bad Rate'] = data['Bad'] / data['All']\n",
    "    data['Distribution Good'] = (data['All'] - data['Bad']) / (data['All'].sum() - data['Bad'].sum())\n",
    "    data['Distribution Bad'] = data['Bad'] / data['Bad'].sum()\n",
    "    data['WoE'] = np.log((data['Distribution Good'] + epsilon) / (data['Distribution Bad'] + epsilon))\n",
    "    data['IV'] = (data['WoE'] * (data['Distribution Good'] - data['Distribution Bad'])).sum()\n",
    "\n",
    "    data = data.sort_values(by=['Variable', 'Value'], ascending=True)\n",
    "\n",
    "    if pr == 1:\n",
    "        print(data)\n",
    "\n",
    "    return data['IV'].values[0]"
   ]
  },
  {
   "cell_type": "code",
   "execution_count": null,
   "id": "d1d82ad6",
   "metadata": {
    "hidden": true
   },
   "outputs": [],
   "source": [
    "\n",
    "# Créer un DataFrame avec les caractéristiques et la variable cible\n",
    "df = pd.DataFrame(X, columns=columns)\n",
    "df['target'] = y\n",
    "\n",
    "# Discrétiser les colonnes\n",
    "discretizer = KBinsDiscretizer(n_bins=4, encode='ordinal', strategy='quantile')\n",
    "X_discrete = discretizer.fit_transform(df[columns])\n",
    "\n",
    "# Mettre à jour le DataFrame avec les colonnes discrétisées\n",
    "df[columns] = X_discrete\n",
    "\n",
    "# Calculer l'Information Value pour chaque caractéristique\n",
    "iv_scores = np.array([calc_iv(df, column, 'target') for column in columns])\n",
    "sorted_indices = np.argsort(iv_scores)[::-1]\n",
    "\n",
    "# Afficher la courbe des scores d'Information Value\n",
    "plt.figure(figsize=(15, 5))\n",
    "plt.bar(x=columns[sorted_indices], height=iv_scores[sorted_indices])\n",
    "plt.xticks(rotation=90)\n",
    "plt.xlabel('Caractéristiques')\n",
    "plt.ylabel(\"Information Value\")\n",
    "plt.title('Sélection des caractéristiques avec Information Value')\n",
    "plt.show()\n"
   ]
  },
  {
   "cell_type": "code",
   "execution_count": null,
   "id": "19cef681",
   "metadata": {
    "hidden": true
   },
   "outputs": [],
   "source": [
    "# Autre approche sans discretisation\n",
    "def iv_woe(data, target, bins=10, show_woe=False):\n",
    "    \n",
    "    #Empty Dataframe\n",
    "    newDF,woeDF = pd.DataFrame(), pd.DataFrame()\n",
    "    \n",
    "    #Extract Column Names\n",
    "    cols = data.columns\n",
    "    \n",
    "    #Run WOE and IV on all the independent variables\n",
    "    for ivars in cols[~cols.isin([target])]:\n",
    "        if (data[ivars].dtype.kind in 'bifc') and (len(np.unique(data[ivars]))>10):\n",
    "            binned_x = pd.qcut(data[ivars], bins,  duplicates='drop')\n",
    "            d0 = pd.DataFrame({'x': binned_x, 'y': data[target]})\n",
    "        else:\n",
    "            d0 = pd.DataFrame({'x': data[ivars], 'y': data[target]})\n",
    "\n",
    "        \n",
    "        # Calculate the number of events in each group (bin)\n",
    "        d = d0.groupby(\"x\", as_index=False).agg({\"y\": [\"count\", \"sum\"]})\n",
    "        d.columns = ['Cutoff', 'N', 'Events']\n",
    "        \n",
    "        # Calculate % of events in each group.\n",
    "        d['% of Events'] = np.maximum(d['Events'], 0.5) / d['Events'].sum()\n",
    "\n",
    "        # Calculate the non events in each group.\n",
    "        d['Non-Events'] = d['N'] - d['Events']\n",
    "        # Calculate % of non events in each group.\n",
    "        d['% of Non-Events'] = np.maximum(d['Non-Events'], 0.5) / d['Non-Events'].sum()\n",
    "\n",
    "        # Calculate WOE by taking natural log of division of % of non-events and % of events\n",
    "        d['WoE'] = np.log(d['% of Events']/d['% of Non-Events'])\n",
    "        d['IV'] = d['WoE'] * (d['% of Events'] - d['% of Non-Events'])\n",
    "        d.insert(loc=0, column='Variable', value=ivars)\n",
    "        print(\"Information value of \" + ivars + \" is \" + str(round(d['IV'].sum(),6)))\n",
    "        temp =pd.DataFrame({\"Variable\" : [ivars], \"IV\" : [d['IV'].sum()]}, columns = [\"Variable\", \"IV\"])\n",
    "        newDF=pd.concat([newDF,temp], axis=0)\n",
    "        woeDF=pd.concat([woeDF,d], axis=0)\n",
    "\n",
    "        #Show WOE Table\n",
    "        if show_woe == True:\n",
    "            print(d)\n",
    "    return newDF, woeDF"
   ]
  },
  {
   "cell_type": "code",
   "execution_count": null,
   "id": "30c9000a",
   "metadata": {
    "hidden": true
   },
   "outputs": [],
   "source": [
    "def iv_woe(data, target, bins=10, show_woe=False, epsilon=1e-6):\n",
    "    \n",
    "    #Empty Dataframe\n",
    "    newDF, woeDF = pd.DataFrame(), pd.DataFrame()\n",
    "    \n",
    "    #Extract Column Names\n",
    "    cols = data.columns\n",
    "    \n",
    "    #Run WOE and IV on all the independent variables\n",
    "    for ivars in cols[~cols.isin([target])]:\n",
    "        if (data[ivars].dtype.kind in 'bifc') and (len(np.unique(data[ivars])) > 10):\n",
    "            binned_x = pd.qcut(data[ivars], bins, duplicates='drop')\n",
    "            d0 = pd.DataFrame({'x': binned_x, 'y': data[target]})\n",
    "        else:\n",
    "            d0 = pd.DataFrame({'x': data[ivars], 'y': data[target]})\n",
    "\n",
    "        # Calculate the number of events in each group (bin)\n",
    "        d = d0.groupby(\"x\", as_index=False).agg({\"y\": [\"count\", \"sum\"]})\n",
    "        d.columns = ['Cutoff', 'N', 'Events']\n",
    "\n",
    "        # Calculate % of events in each group.\n",
    "        d['% of Events'] = np.maximum(d['Events'], epsilon) / (d['Events'].sum() + epsilon)\n",
    "\n",
    "        # Calculate the non events in each group.\n",
    "        d['Non-Events'] = d['N'] - d['Events']\n",
    "        # Calculate % of non events in each group.\n",
    "        d['% of Non-Events'] = np.maximum(d['Non-Events'], epsilon) / (d['Non-Events'].sum() + epsilon)\n",
    "\n",
    "        # Calculate WOE by taking natural log of division of % of non-events and % of events\n",
    "        d['WoE'] = np.log(d['% of Events'] / d['% of Non-Events'])\n",
    "        d['IV'] = d['WoE'] * (d['% of Events'] - d['% of Non-Events'])\n",
    "        d.insert(loc=0, column='Variable', value=ivars)\n",
    "        print(\"Information value of \" + ivars + \" is \" + str(round(d['IV'].sum(), 6)))\n",
    "        temp = pd.DataFrame({\"Variable\": [ivars], \"IV\": [d['IV'].sum()]}, columns=[\"Variable\", \"IV\"])\n",
    "        newDF = pd.concat([newDF, temp], axis=0)\n",
    "        woeDF = pd.concat([woeDF, d], axis=0)\n",
    "\n",
    "        # Show WOE Table\n",
    "        if show_woe == True:\n",
    "            print(d)\n",
    "    return newDF, woeDF"
   ]
  },
  {
   "cell_type": "code",
   "execution_count": null,
   "id": "0310c53b",
   "metadata": {
    "hidden": true
   },
   "outputs": [],
   "source": [
    "\n",
    "# Créer un DataFrame à partir des données\n",
    "df = pd.DataFrame(X, columns=columns)\n",
    "df['target'] = y\n",
    "\n",
    "# Calculer l'Information Value pour chaque caractéristique\n",
    "iv_df, woe_df = iv_woe(df, 'target', bins=4)\n",
    "\n",
    "# Trier les caractéristiques en fonction de l'Information Value\n",
    "iv_df = iv_df.sort_values(by='IV', ascending=False)\n",
    "\n",
    "# Afficher la courbe des scores d'Information Value\n",
    "plt.figure(figsize=(15, 5))\n",
    "plt.bar(x=iv_df['Variable'], height=iv_df['IV'])\n",
    "plt.xticks(rotation=90)\n",
    "plt.xlabel('Caractéristiques')\n",
    "plt.ylabel(\"Information Value\")\n",
    "plt.title('Sélection des caractéristiques avec Information Value')\n",
    "plt.show()"
   ]
  },
  {
   "cell_type": "code",
   "execution_count": null,
   "id": "740c7f59",
   "metadata": {
    "hidden": true
   },
   "outputs": [],
   "source": [
    "def information_value(x, y, epsilon=1e-6):\n",
    "    df = pd.DataFrame({'feature': x, 'target': y})\n",
    "    df['bins'] = pd.cut(df['feature'], bins=pd.Series(np.unique(x)).nunique())\n",
    "    grouped = df.groupby('bins')['target'].agg(['count', 'sum'])\n",
    "    grouped['non_event'] = grouped['count'] - grouped['sum']\n",
    "    grouped['event_dist'] = (grouped['sum'] + epsilon) / (grouped['sum'].sum() + epsilon)\n",
    "    grouped['non_event_dist'] = (grouped['non_event'] + epsilon) / (grouped['non_event'].sum() + epsilon)\n",
    "    grouped['woe'] = np.log(grouped['event_dist'] / grouped['non_event_dist'])\n",
    "    grouped['iv'] = (grouped['event_dist'] - grouped['non_event_dist']) * grouped['woe']\n",
    "    return grouped['iv'].sum()"
   ]
  },
  {
   "cell_type": "code",
   "execution_count": null,
   "id": "fcb3f11c",
   "metadata": {
    "hidden": true
   },
   "outputs": [],
   "source": [
    "# Charger la base de données Breast Cancer\n",
    "data = load_breast_cancer()\n",
    "X, y = data.data, data.target\n",
    "columns = data.feature_names\n",
    "\n",
    "# Discrétiser les colonnes\n",
    "discretizer = KBinsDiscretizer(n_bins=4, encode='ordinal', strategy='quantile')\n",
    "X_discrete = discretizer.fit_transform(X)\n",
    "\n",
    "# Calculer l'Information Value pour chaque caractéristique\n",
    "iv_scores = np.array([information_value(X_discrete[:, i], y) for i in range(X_discrete.shape[1])])\n",
    "sorted_indices = np.argsort(iv_scores)[::-1]\n",
    "\n",
    "# Afficher la courbe des scores d'Information Value\n",
    "plt.figure(figsize=(15, 5))\n",
    "plt.bar(x=columns[sorted_indices], height=iv_scores[sorted_indices])\n",
    "plt.xticks(rotation=90)\n",
    "plt.xlabel('Caractéristiques')\n",
    "plt.ylabel(\"Information Value\")\n",
    "plt.title('Sélection des caractéristiques avec Information Value')\n",
    "plt.show()"
   ]
  },
  {
   "cell_type": "markdown",
   "id": "f7f47f18",
   "metadata": {
    "heading_collapsed": true,
    "hidden": true
   },
   "source": [
    "## Liste des méthodes de filtrage"
   ]
  },
  {
   "cell_type": "markdown",
   "id": "a36f878f",
   "metadata": {
    "hidden": true
   },
   "source": [
    "Les méthodes de sélection de variables par filtrage (filter methods) évaluent la pertinence des variables en fonction de leurs propriétés statistiques, sans tenir compte du modèle de machine learning spécifique. Voici quelques méthodes de filtrage couramment utilisées pour la sélection des variables :\n",
    "\n",
    "**Corrélation de Pearson** : Cette méthode mesure la corrélation linéaire entre chaque variable et la variable cible. Les variables ayant une corrélation élevée (positive ou négative) sont considérées comme pertinentes.\n",
    "\n",
    "\n",
    "**Chi-carré (Chi-squared)** : Le test du chi-carré est utilisé pour déterminer si une relation significative existe entre deux variables catégorielles. Il est couramment utilisé pour la sélection de caractéristiques lorsque les variables d'entrée et la variable cible sont toutes deux catégorielles.\n",
    "\n",
    "**Coefficient de corrélation de Cramer** : Le coefficient de corrélation de Cramer est une mesure de la force de l'association entre deux variables catégorielles. Il peut être utilisé pour mesurer la relation entre deux variables catégorielles, comme la taille et la couleur, ou la marque et la couleur d'un produit. Le coefficient de corrélation de Cramer varie de 0 à 1, où 0 indique une absence d'association et 1 indique une association parfaite.\n",
    "\n",
    "**ANOVA (Analyse de la variance)** : L'ANOVA est utilisée pour déterminer si les moyennes de plusieurs groupes sont égales. Dans la sélection de caractéristiques, l'ANOVA est souvent utilisée pour comparer les moyennes des groupes formés en fonction de la variable cible pour chaque variable d'entrée.\n",
    "\n",
    "**Test de Kruskal-Wallis** : Le test de Kruskal-Wallis est une alternative non paramétrique à l'ANOVA qui teste si plusieurs groupes ont la même distribution. Il est utile pour la sélection de caractéristiques lorsque les données ne satisfont pas aux hypothèses de l'ANOVA (par exemple, lorsque les données ne sont pas normalement distribuées).\n",
    "\n",
    "**Variance**: La sélection de variables basée sur la variance consiste à choisir les variables dont la variance est supérieure à un certain seuil. Les variables ayant une faible variance sont considérées comme moins informatives car elles ne varient pas beaucoup entre les observations.\n",
    "\n",
    "**Corrélation de Pearson** : Cette méthode mesure la corrélation linéaire entre deux variables continues. Elle peut être utilisée pour déterminer si deux variables sont liées et dans quelle mesure elles varient ensemble. La corrélation de Pearson peut être utilisée pour évaluer la relation entre une variable indépendante et une variable dépendante.\n",
    "\n",
    "**Test de Wilcoxon** : Le test de Wilcoxon est une méthode non paramétrique utilisée pour tester si deux échantillons indépendants ont la même distribution. Il peut être utilisé pour comparer les différences entre les variables continues de deux groupes. Le test de Wilcoxon est souvent utilisé dans les études cliniques pour évaluer les effets de traitements ou de thérapies sur une variable mesurée chez des patients.\n",
    "\n",
    "**Information Value (IV)** : L'Information Value est une mesure utilisée pour évaluer la capacité d'une variable à prédire la variable cible dans le contexte des modèles de régression logistique. Elle est basée sur les rapports de cotes (Odds Ratios) et le concept de Weight of Evidence (WOE)."
   ]
  },
  {
   "cell_type": "markdown",
   "id": "6908cd91",
   "metadata": {},
   "source": [
    "# Feature Selection with wrapper methods"
   ]
  },
  {
   "cell_type": "code",
   "execution_count": 1,
   "id": "e4db5aa5",
   "metadata": {},
   "outputs": [],
   "source": [
    "#!pip install mlxtend\n",
    "\n",
    "import numpy as np\n",
    "import pandas as pd\n",
    "from sklearn.datasets import load_breast_cancer\n",
    "from sklearn.model_selection import train_test_split\n",
    "from sklearn.linear_model import LogisticRegression\n",
    "from mlxtend.feature_selection import SequentialFeatureSelector as SFS\n",
    "\n",
    "# Charger les données\n",
    "data = load_breast_cancer()\n",
    "X = data.data\n",
    "y = data.target\n",
    "\n",
    "# Diviser les données en ensembles d'entraînement et de test\n",
    "X_train, X_test, y_train, y_test = train_test_split(X, y, test_size=0.3, random_state=42)\n"
   ]
  },
  {
   "cell_type": "code",
   "execution_count": 3,
   "id": "b0907789",
   "metadata": {},
   "outputs": [],
   "source": [
    "\n",
    "# Créer le classificateur\n",
    "clf = LogisticRegression(solver='liblinear', max_iter=1000)"
   ]
  },
  {
   "cell_type": "markdown",
   "id": "800fe82f",
   "metadata": {},
   "source": [
    "## Forward Selection"
   ]
  },
  {
   "cell_type": "markdown",
   "id": "3aeae5fb",
   "metadata": {},
   "source": [
    "\n",
    "La sélection de variables forward est une méthode qui commence avec un modèle incluant une seule variable, puis ajoute des variables une à une jusqu'à ce qu'un critère de sélection prédéfini soit atteint. Cette méthode peut être plus efficace que la sélection de variables backward, car elle peut identifier rapidement les variables les plus importantes. Cependant, elle peut également inclure des variables redondantes ou non significatives.\n"
   ]
  },
  {
   "cell_type": "code",
   "execution_count": 4,
   "id": "d07e8241",
   "metadata": {},
   "outputs": [
    {
     "name": "stdout",
     "output_type": "stream",
     "text": [
      "Forward Selection: \n",
      "Meilleures caractéristiques: ['mean radius' 'mean perimeter' 'mean area' 'mean smoothness'\n",
      " 'mean compactness' 'mean concavity' 'mean concave points' 'mean symmetry'\n",
      " 'mean fractal dimension' 'radius error' 'texture error' 'perimeter error'\n",
      " 'area error' 'smoothness error' 'compactness error' 'concavity error'\n",
      " 'concave points error' 'symmetry error' 'fractal dimension error'\n",
      " 'worst texture' 'worst perimeter' 'worst area' 'worst smoothness'\n",
      " 'worst compactness' 'worst concavity' 'worst concave points'\n",
      " 'worst symmetry' 'worst fractal dimension'] \n",
      "Meilleur score: 0.9521518987341773\n"
     ]
    }
   ],
   "source": [
    "\n",
    "# Forward Selection\n",
    "sfs = SFS(clf, k_features='best', forward=True, floating=False, scoring='accuracy', cv=5)\n",
    "sfs = sfs.fit(X_train, y_train)\n",
    "print(\"Forward Selection: \\nMeilleures caractéristiques:\", data.feature_names[list(sfs.k_feature_idx_)], \"\\nMeilleur score:\", sfs.k_score_)\n"
   ]
  },
  {
   "cell_type": "markdown",
   "id": "ff704461",
   "metadata": {},
   "source": [
    "\n",
    "## Backward Selection"
   ]
  },
  {
   "cell_type": "markdown",
   "id": "7c2ddb9c",
   "metadata": {},
   "source": [
    "La sélection de variables backward est une méthode qui commence avec un modèle incluant toutes les variables disponibles, puis élimine les variables une à une jusqu'à ce qu'un modèle final satisfaisant soit atteint. Cette méthode peut être efficace pour les modèles linéaires simples, mais elle peut devenir impraticable pour les modèles plus complexes."
   ]
  },
  {
   "cell_type": "code",
   "execution_count": 5,
   "id": "8e1e3223",
   "metadata": {},
   "outputs": [
    {
     "name": "stdout",
     "output_type": "stream",
     "text": [
      "\n",
      "Backward Elimination: \n",
      "Meilleures caractéristiques: ['mean radius' 'mean perimeter' 'mean area' 'mean smoothness'\n",
      " 'mean compactness' 'mean concavity' 'mean concave points' 'mean symmetry'\n",
      " 'mean fractal dimension' 'radius error' 'texture error' 'area error'\n",
      " 'smoothness error' 'compactness error' 'concavity error' 'worst radius'\n",
      " 'worst texture' 'worst area' 'worst concavity'] \n",
      "Meilleur score: 0.9521835443037976\n"
     ]
    }
   ],
   "source": [
    "\n",
    "sbs = SFS(clf, k_features='best', forward=False, floating=False, scoring='accuracy', cv=5)\n",
    "sbs = sbs.fit(X_train, y_train)\n",
    "print(\"\\nBackward Elimination: \\nMeilleures caractéristiques:\", data.feature_names[list(sbs.k_feature_idx_)], \"\\nMeilleur score:\", sbs.k_score_)\n"
   ]
  },
  {
   "cell_type": "markdown",
   "id": "2d54eefd",
   "metadata": {},
   "source": [
    "\n",
    "## Recursive Feature Elimination"
   ]
  },
  {
   "cell_type": "markdown",
   "id": "c8fc01c8",
   "metadata": {},
   "source": [
    "La méthode **Recursive Feature Elimination (RFE)** est une technique de sélection de caractéristiques basée sur la récursivité, qui vise à sélectionner les caractéristiques les plus pertinentes pour un modèle d'apprentissage automatique. L'idée principale de RFE est de construire répétitivement un modèle et d'éliminer les caractéristiques les moins importantes, jusqu'à ce qu'un nombre souhaité de caractéristiques soit atteint.\n",
    "\n",
    "Voici comment fonctionne l'algorithme RFE :\n",
    "\n",
    "1. Entraînez un modèle sur l'ensemble des caractéristiques et calculez l'importance de chaque caractéristique (par exemple, les coefficients d'un modèle linéaire ou les importances des caractéristiques d'un arbre de décision).\n",
    "2. Supprimez la caractéristique la moins importante du jeu de données.\n",
    "3. Répétez les étapes 1 et 2 jusqu'à ce que toutes les caractéristiques aient été éliminées.\n",
    "4. Évaluez les performances du modèle pour chaque sous-ensemble de caractéristiques éliminées et choisissez le sous-ensemble qui maximise les performances (par exemple, en utilisant la validation croisée).\n",
    "\n",
    "RFE peut être utilisé avec différents modèles d'apprentissage automatique et est implémenté dans la bibliothèque `scikit-learn` avec la classe `RFECV`. Cette classe effectue également une validation croisée pour déterminer le nombre optimal de caractéristiques à conserver.\n",
    "\n",
    "\n",
    "\n",
    "La méthode **Recursive Feature Elimination (RFE)** est une technique de sélection de caractéristiques basée sur la récursivité, qui vise à sélectionner les caractéristiques les plus pertinentes pour un modèle d'apprentissage automatique. L'idée principale de RFE est de construire répétitivement un modèle et d'éliminer les caractéristiques les moins importantes, jusqu'à ce qu'un nombre souhaité de caractéristiques soit atteint.\n",
    "\n",
    "### Avantages de RFE\n",
    "\n",
    "- RFE prend en compte les relations entre les caractéristiques, contrairement aux méthodes de filtrage.\n",
    "- RFE est compatible avec différents modèles d'apprentissage automatique et est facile à utiliser avec la bibliothèque `scikit-learn`.\n",
    "- RFE évalue les performances du modèle à chaque étape, ce qui permet de choisir le nombre optimal de caractéristiques.\n",
    "\n",
    "### Inconvénients de RFE\n",
    "\n",
    "- RFE peut être lent, surtout pour les jeux de données avec un grand nombre de caractéristiques, car il doit construire un modèle pour chaque sous-ensemble de caractéristiques.\n",
    "- Les performances de RFE dépendent fortement du modèle d'apprentissage automatique utilisé pour évaluer l'importance des caractéristiques.\n",
    "- RFE peut ne pas être efficace si le modèle d'apprentissage automatique utilisé ne reflète pas l'importance des caractéristiques de manière précise.\n",
    "\n",
    "\n",
    "\n"
   ]
  },
  {
   "cell_type": "code",
   "execution_count": 6,
   "id": "310df09e",
   "metadata": {},
   "outputs": [
    {
     "name": "stdout",
     "output_type": "stream",
     "text": [
      "\n",
      "Recursive Feature Elimination: \n",
      "Meilleures caractéristiques: ['mean radius' 'mean texture' 'mean perimeter' 'mean smoothness'\n",
      " 'mean compactness' 'mean concavity' 'mean concave points' 'mean symmetry'\n",
      " 'mean fractal dimension' 'radius error' 'texture error' 'perimeter error'\n",
      " 'area error' 'compactness error' 'concavity error' 'concave points error'\n",
      " 'symmetry error' 'worst radius' 'worst texture' 'worst perimeter'\n",
      " 'worst smoothness' 'worst compactness' 'worst concavity'\n",
      " 'worst concave points' 'worst symmetry' 'worst fractal dimension'] \n",
      "Meilleur score: 0.9875\n"
     ]
    },
    {
     "name": "stderr",
     "output_type": "stream",
     "text": [
      "/Users/natachanjongwayepnga/opt/anaconda3/lib/python3.9/site-packages/sklearn/utils/deprecation.py:103: FutureWarning: The `grid_scores_` attribute is deprecated in version 1.0 in favor of `cv_results_` and will be removed in version 1.2.\n",
      "  warnings.warn(msg, category=FutureWarning)\n"
     ]
    }
   ],
   "source": [
    "\n",
    "# Recursive Feature Elimination\n",
    "from sklearn.feature_selection import RFECV\n",
    "\n",
    "rfe = RFECV(clf, step=1, cv=5, scoring='accuracy')\n",
    "rfe = rfe.fit(X_train, y_train)\n",
    "print(\"\\nRecursive Feature Elimination: \\nMeilleures caractéristiques:\", data.feature_names[np.where(rfe.support_)[0]], \"\\nMeilleur score:\", rfe.grid_scores_.max())"
   ]
  },
  {
   "cell_type": "markdown",
   "id": "9b3e808e",
   "metadata": {},
   "source": [
    "## Exhaustive Feature Selection (Best Subsets)"
   ]
  },
  {
   "cell_type": "code",
   "execution_count": null,
   "id": "bad68502",
   "metadata": {},
   "outputs": [],
   "source": [
    "from mlxtend.feature_selection import ExhaustiveFeatureSelector as EFS\n",
    "from sklearn.linear_model import LogisticRegression\n",
    "\n",
    "# Créez un modèle de régression logistique\n",
    "clf = LogisticRegression(solver='liblinear', max_iter=1000)\n",
    "\n",
    "# Définir les paramètres pour l'EFS\n",
    "min_features = 1\n",
    "max_features = 5\n",
    "\n",
    "# Créer l'instance EFS et ajuster les données\n",
    "efs = EFS(clf, \n",
    "          min_features=min_features,\n",
    "          max_features=max_features,\n",
    "          scoring='accuracy',\n",
    "          cv=5,\n",
    "          n_jobs=-1)\n",
    "\n",
    "efs = efs.fit(X_train, y_train)\n",
    "\n",
    "# Obtenir les meilleures caractéristiques sélectionnées par EFS\n",
    "best_features = data.feature_names[list(efs.best_idx_)]\n",
    "print(\"Caractéristiques sélectionnées par Exhaustive Feature Selector:\")\n",
    "print(best_features)"
   ]
  },
  {
   "cell_type": "markdown",
   "id": "13c713e9",
   "metadata": {},
   "source": [
    "| Méthode | Avantages | Inconvénients |\n",
    "| ------- | --------- | ------------- |\n",
    "| Sélection de variables backward | Peut être efficace pour les modèles simples | Impraticable pour les modèles complexes |\n",
    "| Sélection de variables stepwise | Peut être plus efficace que la sélection de variables backward | Impraticable pour les modèles très complexes |\n",
    "| Sélection de variables forward | Peut identifier rapidement les variables les plus importantes | Peut inclure des variables redondantes ou non significatives |\n",
    "| Recursive Feature Elimination (RFE) | Peut être plus efficace pour les modèles complexes | Peut être impraticable pour les ensembles de données très larges |"
   ]
  },
  {
   "cell_type": "markdown",
   "id": "2322b8e3",
   "metadata": {},
   "source": [
    "# Feature selection with embedded approaches"
   ]
  },
  {
   "cell_type": "code",
   "execution_count": 7,
   "id": "bcf7909b",
   "metadata": {},
   "outputs": [],
   "source": [
    "import numpy as np\n",
    "import pandas as pd\n",
    "from sklearn.datasets import load_breast_cancer\n",
    "from sklearn.preprocessing import StandardScaler\n",
    "from sklearn.linear_model import LassoCV\n",
    "from sklearn.ensemble import RandomForestClassifier\n",
    "from sklearn.feature_selection import SelectFromModel"
   ]
  },
  {
   "cell_type": "code",
   "execution_count": 8,
   "id": "8e267b3b",
   "metadata": {},
   "outputs": [],
   "source": [
    "# Load breast cancer data\n",
    "data = load_breast_cancer()\n",
    "X = data.data\n",
    "y = data.target\n",
    "\n",
    "# Normalize the data\n",
    "scaler = StandardScaler()\n",
    "X_scaled = scaler.fit_transform(X)\n"
   ]
  },
  {
   "cell_type": "markdown",
   "id": "d3e79be0",
   "metadata": {},
   "source": [
    "## Feature selection with LASSO"
   ]
  },
  {
   "cell_type": "markdown",
   "id": "79d4492c",
   "metadata": {},
   "source": [
    "La régression LASSO (Least Absolute Shrinkage and Selection Operator) est une méthode de régression linéaire régularisée qui peut être utilisée pour la sélection de variables. L'objectif de la régression LASSO est de minimiser la somme des carrés des résidus de la régression, tout en imposant une pénalité sur la somme des valeurs absolues des coefficients de régression. Cette pénalité peut conduire à une réduction de la valeur de certains coefficients à zéro, ce qui correspond à une sélection de variables."
   ]
  },
  {
   "cell_type": "code",
   "execution_count": 9,
   "id": "5d6efb8d",
   "metadata": {},
   "outputs": [
    {
     "name": "stderr",
     "output_type": "stream",
     "text": [
      "/Users/natachanjongwayepnga/opt/anaconda3/lib/python3.9/site-packages/sklearn/linear_model/_coordinate_descent.py:633: ConvergenceWarning: Objective did not converge. You might want to increase the number of iterations. Duality gap: 0.020023834784939964, tolerance: 0.009842637362637373\n",
      "  model = cd_fast.enet_coordinate_descent_gram(\n",
      "/Users/natachanjongwayepnga/opt/anaconda3/lib/python3.9/site-packages/sklearn/linear_model/_coordinate_descent.py:633: ConvergenceWarning: Objective did not converge. You might want to increase the number of iterations. Duality gap: 0.023529341302001683, tolerance: 0.009842637362637373\n",
      "  model = cd_fast.enet_coordinate_descent_gram(\n",
      "/Users/natachanjongwayepnga/opt/anaconda3/lib/python3.9/site-packages/sklearn/linear_model/_coordinate_descent.py:633: ConvergenceWarning: Objective did not converge. You might want to increase the number of iterations. Duality gap: 0.011313444420757435, tolerance: 0.009842637362637373\n",
      "  model = cd_fast.enet_coordinate_descent_gram(\n"
     ]
    }
   ],
   "source": [
    "# Lasso Regression (L1 regularization)\n",
    "lasso = LassoCV(cv=5, random_state=42)\n",
    "lasso.fit(X_scaled, y)\n",
    "lasso_coef = lasso.coef_"
   ]
  },
  {
   "cell_type": "code",
   "execution_count": 10,
   "id": "75da417e",
   "metadata": {},
   "outputs": [
    {
     "name": "stdout",
     "output_type": "stream",
     "text": [
      "                         Lasso Coefficient\n",
      "mean radius                       0.000000\n",
      "mean texture                     -0.019101\n",
      "mean perimeter                    0.000000\n",
      "mean area                         0.025588\n",
      "mean smoothness                   0.000000\n",
      "mean compactness                  0.170202\n",
      "mean concavity                   -0.102760\n",
      "mean concave points              -0.081244\n",
      "mean symmetry                     0.000000\n",
      "mean fractal dimension            0.009057\n",
      "radius error                     -0.127108\n",
      "texture error                     0.004306\n",
      "perimeter error                   0.003768\n",
      "area error                        0.078541\n",
      "smoothness error                 -0.045661\n",
      "compactness error                 0.002907\n",
      "concavity error                   0.096273\n",
      "concave points error             -0.044152\n",
      "symmetry error                   -0.007548\n",
      "fractal dimension error           0.011115\n",
      "worst radius                     -0.550721\n",
      "worst texture                    -0.046773\n",
      "worst perimeter                   0.000000\n",
      "worst area                        0.350787\n",
      "worst smoothness                 -0.018344\n",
      "worst compactness                 0.000000\n",
      "worst concavity                  -0.077610\n",
      "worst concave points             -0.050464\n",
      "worst symmetry                   -0.042422\n",
      "worst fractal dimension          -0.074736\n"
     ]
    }
   ],
   "source": [
    "# Create a table with variable names and Lasso coefficients\n",
    "var_names = data.feature_names\n",
    "coef_dict = {var_names[i]: lasso_coef[i] for i in range(len(var_names))}\n",
    "coef_df = pd.DataFrame.from_dict(coef_dict, orient='index', columns=['Lasso Coefficient'])\n",
    "print(coef_df)"
   ]
  },
  {
   "cell_type": "code",
   "execution_count": 11,
   "id": "a2c0bd21",
   "metadata": {},
   "outputs": [
    {
     "name": "stdout",
     "output_type": "stream",
     "text": [
      "Lasso-selected features:\n",
      "['mean texture' 'mean area' 'mean compactness' 'mean concavity'\n",
      " 'mean concave points' 'mean fractal dimension' 'radius error'\n",
      " 'texture error' 'perimeter error' 'area error' 'smoothness error'\n",
      " 'compactness error' 'concavity error' 'concave points error'\n",
      " 'symmetry error' 'fractal dimension error' 'worst radius' 'worst texture'\n",
      " 'worst area' 'worst smoothness' 'worst concavity' 'worst concave points'\n",
      " 'worst symmetry' 'worst fractal dimension']\n"
     ]
    }
   ],
   "source": [
    "# Get the Lasso-selected features\n",
    "lasso_selected_features = np.where(lasso_coef != 0)[0]\n",
    "print(\"Lasso-selected features:\")\n",
    "print(data.feature_names[lasso_selected_features])\n"
   ]
  },
  {
   "cell_type": "markdown",
   "id": "e0412602",
   "metadata": {},
   "source": [
    "## Feature selection avec Random forest feature importance"
   ]
  },
  {
   "cell_type": "markdown",
   "id": "8802baa8",
   "metadata": {},
   "source": [
    "\n",
    "Le processus de sélection de variables à l'aide de l'importance des variables de Random Forest peut être effectué en utilisant la bibliothèque scikit-learn en Python. Voici les étapes générales du processus :\n",
    "\n",
    "1. Créer un objet Random Forest avec les paramètres souhaités, tels que le nombre d'arbres et la graine aléatoire.\n",
    "2. Adapter le modèle aux données.\n",
    "3. Extraire les importances des variables à l'aide de l'attribut `feature_importances_`.\n",
    "4. Utiliser les importances des variables pour sélectionner les variables les plus importantes à l'aide d'une méthode de sélection de variables, telle que `SelectFromModel` ou `RFECV` (recursive feature elimination with cross-validation).\n"
   ]
  },
  {
   "cell_type": "code",
   "execution_count": 16,
   "id": "fe0fe0b1",
   "metadata": {},
   "outputs": [
    {
     "name": "stdout",
     "output_type": "stream",
     "text": [
      "Random Forest-selected features:\n",
      "['mean radius' 'mean perimeter' 'mean area' 'mean concavity'\n",
      " 'mean concave points' 'worst radius' 'worst perimeter' 'worst area'\n",
      " 'worst concavity' 'worst concave points']\n"
     ]
    }
   ],
   "source": [
    "# Random Forest feature importance\n",
    "rf = RandomForestClassifier(n_estimators=100, random_state=42)\n",
    "rf.fit(X_scaled, y)\n",
    "rf_feature_importances = rf.feature_importances_\n",
    "\n",
    "# Get the Random Forest-selected features\n",
    "selector = SelectFromModel(rf, prefit=True)\n",
    "rf_selected_features = np.where(selector.get_support())[0]\n",
    "print(\"Random Forest-selected features:\")\n",
    "print(data.feature_names[rf_selected_features])"
   ]
  },
  {
   "cell_type": "code",
   "execution_count": 17,
   "id": "c6694c92",
   "metadata": {},
   "outputs": [
    {
     "data": {
      "image/png": "[encoded data removed]",
      "text/plain": [
       "<Figure size 640x480 with 1 Axes>"
      ]
     },
     "metadata": {},
     "output_type": "display_data"
    }
   ],
   "source": [
    "# Create a sorted list of feature importances\n",
    "import matplotlib.pyplot as plt\n",
    "sorted_idx = rf_feature_importances.argsort()[::-1]\n",
    "sorted_rf_feature_importances = rf_feature_importances[sorted_idx]\n",
    "\n",
    "# Create a bar chart of feature importances\n",
    "plt.bar(range(X_scaled.shape[1]), sorted_rf_feature_importances)\n",
    "plt.xticks(range(X_scaled.shape[1]), data.feature_names[sorted_idx], rotation=90)\n",
    "plt.title(\"Random Forest feature importances\")\n",
    "plt.show()"
   ]
  },
  {
   "cell_type": "code",
   "execution_count": null,
   "id": "d7cddb25",
   "metadata": {},
   "outputs": [],
   "source": []
  }
 ],
 "metadata": {
  "hide_input": false,
  "kernelspec": {
   "display_name": "Python 3 (ipykernel)",
   "language": "python",
   "name": "python3"
  },
  "language_info": {
   "codemirror_mode": {
    "name": "ipython",
    "version": 3
   },
   "file_extension": ".py",
   "mimetype": "text/x-python",
   "name": "python",
   "nbconvert_exporter": "python",
   "pygments_lexer": "ipython3",
   "version": "3.9.12"
  },
  "toc": {
   "base_numbering": 1,
   "nav_menu": {},
   "number_sections": true,
   "sideBar": true,
   "skip_h1_title": false,
   "title_cell": "Table of Contents",
   "title_sidebar": "Contents",
   "toc_cell": false,
   "toc_position": {},
   "toc_section_display": true,
   "toc_window_display": false
  }
 },
 "nbformat": 4,
 "nbformat_minor": 5
}
